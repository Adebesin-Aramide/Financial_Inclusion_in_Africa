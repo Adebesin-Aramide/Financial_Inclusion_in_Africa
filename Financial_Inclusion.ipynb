{
 "cells": [
  {
   "attachments": {},
   "cell_type": "markdown",
   "id": "17a5a6ea",
   "metadata": {},
   "source": [
    "## Name: Adebesin Aramide\n",
    "## Financial Inclusion in Africa\n",
    "## Task: Predict the likelihood of Individuals having a bank account in East Africa"
   ]
  },
  {
   "cell_type": "code",
   "execution_count": 400,
   "id": "1ec15d3e",
   "metadata": {},
   "outputs": [],
   "source": [
    "#importing the necessary libraries\n",
    "import pandas as pd\n",
    "import numpy as np\n",
    "import matplotlib.pyplot as plt\n",
    "import seaborn as sns\n",
    "\n",
    "import warnings\n",
    "warnings.filterwarnings('ignore')"
   ]
  },
  {
   "cell_type": "code",
   "execution_count": 401,
   "id": "5783e3d6",
   "metadata": {},
   "outputs": [
    {
     "name": "stdout",
     "output_type": "stream",
     "text": [
      "(23524, 13)\n",
      "(12, 2)\n"
     ]
    }
   ],
   "source": [
    "#loading the dataset and printing the shape of the dataset i.e the number of rows and columns\n",
    "train = pd.read_csv(\"Train.csv\")  \n",
    "variables = pd.read_csv(\"VariableDefinitions.csv\")\n",
    "print(train.shape)\n",
    "print(variables.shape)"
   ]
  },
  {
   "cell_type": "code",
   "execution_count": 402,
   "id": "2277a6ff",
   "metadata": {},
   "outputs": [
    {
     "data": {
      "text/html": [
       "<div>\n",
       "<style scoped>\n",
       "    .dataframe tbody tr th:only-of-type {\n",
       "        vertical-align: middle;\n",
       "    }\n",
       "\n",
       "    .dataframe tbody tr th {\n",
       "        vertical-align: top;\n",
       "    }\n",
       "\n",
       "    .dataframe thead th {\n",
       "        text-align: right;\n",
       "    }\n",
       "</style>\n",
       "<table border=\"1\" class=\"dataframe\">\n",
       "  <thead>\n",
       "    <tr style=\"text-align: right;\">\n",
       "      <th></th>\n",
       "      <th>country</th>\n",
       "      <th>year</th>\n",
       "      <th>uniqueid</th>\n",
       "      <th>bank_account</th>\n",
       "      <th>location_type</th>\n",
       "      <th>cellphone_access</th>\n",
       "      <th>household_size</th>\n",
       "      <th>age_of_respondent</th>\n",
       "      <th>gender_of_respondent</th>\n",
       "      <th>relationship_with_head</th>\n",
       "      <th>marital_status</th>\n",
       "      <th>education_level</th>\n",
       "      <th>job_type</th>\n",
       "    </tr>\n",
       "  </thead>\n",
       "  <tbody>\n",
       "    <tr>\n",
       "      <th>0</th>\n",
       "      <td>Kenya</td>\n",
       "      <td>2018</td>\n",
       "      <td>uniqueid_1</td>\n",
       "      <td>Yes</td>\n",
       "      <td>Rural</td>\n",
       "      <td>Yes</td>\n",
       "      <td>3</td>\n",
       "      <td>24</td>\n",
       "      <td>Female</td>\n",
       "      <td>Spouse</td>\n",
       "      <td>Married/Living together</td>\n",
       "      <td>Secondary education</td>\n",
       "      <td>Self employed</td>\n",
       "    </tr>\n",
       "    <tr>\n",
       "      <th>1</th>\n",
       "      <td>Kenya</td>\n",
       "      <td>2018</td>\n",
       "      <td>uniqueid_2</td>\n",
       "      <td>No</td>\n",
       "      <td>Rural</td>\n",
       "      <td>No</td>\n",
       "      <td>5</td>\n",
       "      <td>70</td>\n",
       "      <td>Female</td>\n",
       "      <td>Head of Household</td>\n",
       "      <td>Widowed</td>\n",
       "      <td>No formal education</td>\n",
       "      <td>Government Dependent</td>\n",
       "    </tr>\n",
       "    <tr>\n",
       "      <th>2</th>\n",
       "      <td>Kenya</td>\n",
       "      <td>2018</td>\n",
       "      <td>uniqueid_3</td>\n",
       "      <td>Yes</td>\n",
       "      <td>Urban</td>\n",
       "      <td>Yes</td>\n",
       "      <td>5</td>\n",
       "      <td>26</td>\n",
       "      <td>Male</td>\n",
       "      <td>Other relative</td>\n",
       "      <td>Single/Never Married</td>\n",
       "      <td>Vocational/Specialised training</td>\n",
       "      <td>Self employed</td>\n",
       "    </tr>\n",
       "    <tr>\n",
       "      <th>3</th>\n",
       "      <td>Kenya</td>\n",
       "      <td>2018</td>\n",
       "      <td>uniqueid_4</td>\n",
       "      <td>No</td>\n",
       "      <td>Rural</td>\n",
       "      <td>Yes</td>\n",
       "      <td>5</td>\n",
       "      <td>34</td>\n",
       "      <td>Female</td>\n",
       "      <td>Head of Household</td>\n",
       "      <td>Married/Living together</td>\n",
       "      <td>Primary education</td>\n",
       "      <td>Formally employed Private</td>\n",
       "    </tr>\n",
       "    <tr>\n",
       "      <th>4</th>\n",
       "      <td>Kenya</td>\n",
       "      <td>2018</td>\n",
       "      <td>uniqueid_5</td>\n",
       "      <td>No</td>\n",
       "      <td>Urban</td>\n",
       "      <td>No</td>\n",
       "      <td>8</td>\n",
       "      <td>26</td>\n",
       "      <td>Male</td>\n",
       "      <td>Child</td>\n",
       "      <td>Single/Never Married</td>\n",
       "      <td>Primary education</td>\n",
       "      <td>Informally employed</td>\n",
       "    </tr>\n",
       "  </tbody>\n",
       "</table>\n",
       "</div>"
      ],
      "text/plain": [
       "  country  year    uniqueid bank_account location_type cellphone_access  \\\n",
       "0   Kenya  2018  uniqueid_1          Yes         Rural              Yes   \n",
       "1   Kenya  2018  uniqueid_2           No         Rural               No   \n",
       "2   Kenya  2018  uniqueid_3          Yes         Urban              Yes   \n",
       "3   Kenya  2018  uniqueid_4           No         Rural              Yes   \n",
       "4   Kenya  2018  uniqueid_5           No         Urban               No   \n",
       "\n",
       "   household_size  age_of_respondent gender_of_respondent  \\\n",
       "0               3                 24               Female   \n",
       "1               5                 70               Female   \n",
       "2               5                 26                 Male   \n",
       "3               5                 34               Female   \n",
       "4               8                 26                 Male   \n",
       "\n",
       "  relationship_with_head           marital_status  \\\n",
       "0                 Spouse  Married/Living together   \n",
       "1      Head of Household                  Widowed   \n",
       "2         Other relative     Single/Never Married   \n",
       "3      Head of Household  Married/Living together   \n",
       "4                  Child     Single/Never Married   \n",
       "\n",
       "                   education_level                   job_type  \n",
       "0              Secondary education              Self employed  \n",
       "1              No formal education       Government Dependent  \n",
       "2  Vocational/Specialised training              Self employed  \n",
       "3                Primary education  Formally employed Private  \n",
       "4                Primary education        Informally employed  "
      ]
     },
     "execution_count": 402,
     "metadata": {},
     "output_type": "execute_result"
    }
   ],
   "source": [
    "#displaying the first five rows of the training dataset\n",
    "train.head()"
   ]
  },
  {
   "cell_type": "code",
   "execution_count": 403,
   "id": "adaf132e",
   "metadata": {
    "scrolled": true
   },
   "outputs": [
    {
     "name": "stdout",
     "output_type": "stream",
     "text": [
      "<class 'pandas.core.frame.DataFrame'>\n",
      "RangeIndex: 23524 entries, 0 to 23523\n",
      "Data columns (total 13 columns):\n",
      " #   Column                  Non-Null Count  Dtype \n",
      "---  ------                  --------------  ----- \n",
      " 0   country                 23524 non-null  object\n",
      " 1   year                    23524 non-null  int64 \n",
      " 2   uniqueid                23524 non-null  object\n",
      " 3   bank_account            23524 non-null  object\n",
      " 4   location_type           23524 non-null  object\n",
      " 5   cellphone_access        23524 non-null  object\n",
      " 6   household_size          23524 non-null  int64 \n",
      " 7   age_of_respondent       23524 non-null  int64 \n",
      " 8   gender_of_respondent    23524 non-null  object\n",
      " 9   relationship_with_head  23524 non-null  object\n",
      " 10  marital_status          23524 non-null  object\n",
      " 11  education_level         23524 non-null  object\n",
      " 12  job_type                23524 non-null  object\n",
      "dtypes: int64(3), object(10)\n",
      "memory usage: 2.3+ MB\n"
     ]
    }
   ],
   "source": [
    "#displaying the information about the train dataset i.e the columns, datatype, no of entries\n",
    "train.info()"
   ]
  },
  {
   "cell_type": "code",
   "execution_count": 404,
   "id": "3bcb300c",
   "metadata": {
    "scrolled": false
   },
   "outputs": [
    {
     "data": {
      "text/plain": [
       "country                   0\n",
       "year                      0\n",
       "uniqueid                  0\n",
       "bank_account              0\n",
       "location_type             0\n",
       "cellphone_access          0\n",
       "household_size            0\n",
       "age_of_respondent         0\n",
       "gender_of_respondent      0\n",
       "relationship_with_head    0\n",
       "marital_status            0\n",
       "education_level           0\n",
       "job_type                  0\n",
       "dtype: int64"
      ]
     },
     "execution_count": 404,
     "metadata": {},
     "output_type": "execute_result"
    }
   ],
   "source": [
    "#checking for null values in the train dataset\n",
    "train.isnull().sum()"
   ]
  },
  {
   "attachments": {},
   "cell_type": "markdown",
   "id": "455151bf",
   "metadata": {},
   "source": [
    "We observe that the dataset is clean. No null values"
   ]
  },
  {
   "cell_type": "code",
   "execution_count": 405,
   "id": "de630bc9",
   "metadata": {},
   "outputs": [],
   "source": [
    "#dropping the uniqueid column, it is not needed for our analysis\n",
    "train.drop(columns = [\"uniqueid\"] , axis = 1, inplace = True)"
   ]
  },
  {
   "cell_type": "code",
   "execution_count": 406,
   "id": "93bfe1a5",
   "metadata": {
    "scrolled": false
   },
   "outputs": [
    {
     "data": {
      "text/plain": [
       "Index(['country', 'year', 'bank_account', 'location_type', 'cellphone_access',\n",
       "       'household_size', 'age_of_respondent', 'gender_of_respondent',\n",
       "       'relationship_with_head', 'marital_status', 'education_level',\n",
       "       'job_type'],\n",
       "      dtype='object')"
      ]
     },
     "execution_count": 406,
     "metadata": {},
     "output_type": "execute_result"
    }
   ],
   "source": [
    "#displaying the columns in the train dataset\n",
    "train.columns"
   ]
  },
  {
   "cell_type": "code",
   "execution_count": 407,
   "id": "fbcd2ef4",
   "metadata": {},
   "outputs": [
    {
     "data": {
      "text/html": [
       "<div>\n",
       "<style scoped>\n",
       "    .dataframe tbody tr th:only-of-type {\n",
       "        vertical-align: middle;\n",
       "    }\n",
       "\n",
       "    .dataframe tbody tr th {\n",
       "        vertical-align: top;\n",
       "    }\n",
       "\n",
       "    .dataframe thead th {\n",
       "        text-align: right;\n",
       "    }\n",
       "</style>\n",
       "<table border=\"1\" class=\"dataframe\">\n",
       "  <thead>\n",
       "    <tr style=\"text-align: right;\">\n",
       "      <th></th>\n",
       "      <th>Variable Definitions</th>\n",
       "      <th>Unnamed: 1</th>\n",
       "    </tr>\n",
       "  </thead>\n",
       "  <tbody>\n",
       "    <tr>\n",
       "      <th>0</th>\n",
       "      <td>country</td>\n",
       "      <td>Country interviewee is in.</td>\n",
       "    </tr>\n",
       "    <tr>\n",
       "      <th>1</th>\n",
       "      <td>year</td>\n",
       "      <td>Year survey was done in.</td>\n",
       "    </tr>\n",
       "    <tr>\n",
       "      <th>2</th>\n",
       "      <td>uniqueid</td>\n",
       "      <td>Unique identifier for each interviewee</td>\n",
       "    </tr>\n",
       "    <tr>\n",
       "      <th>3</th>\n",
       "      <td>location_type</td>\n",
       "      <td>Type of location: Rural, Urban</td>\n",
       "    </tr>\n",
       "    <tr>\n",
       "      <th>4</th>\n",
       "      <td>cellphone_access</td>\n",
       "      <td>If interviewee has access to a cellphone: Yes, No</td>\n",
       "    </tr>\n",
       "    <tr>\n",
       "      <th>5</th>\n",
       "      <td>household_size</td>\n",
       "      <td>Number of people living in one house</td>\n",
       "    </tr>\n",
       "    <tr>\n",
       "      <th>6</th>\n",
       "      <td>age_of_respondent</td>\n",
       "      <td>The age of the interviewee</td>\n",
       "    </tr>\n",
       "    <tr>\n",
       "      <th>7</th>\n",
       "      <td>gender_of_respondent</td>\n",
       "      <td>Gender of interviewee: Male, Female</td>\n",
       "    </tr>\n",
       "    <tr>\n",
       "      <th>8</th>\n",
       "      <td>relationship_with_head</td>\n",
       "      <td>The interviewee’s relationship with the head o...</td>\n",
       "    </tr>\n",
       "    <tr>\n",
       "      <th>9</th>\n",
       "      <td>marital_status</td>\n",
       "      <td>The martial status of the interviewee: Married...</td>\n",
       "    </tr>\n",
       "    <tr>\n",
       "      <th>10</th>\n",
       "      <td>education_level</td>\n",
       "      <td>Highest level of education: No formal educatio...</td>\n",
       "    </tr>\n",
       "    <tr>\n",
       "      <th>11</th>\n",
       "      <td>job_type</td>\n",
       "      <td>Type of job interviewee has: Farming and Fishi...</td>\n",
       "    </tr>\n",
       "  </tbody>\n",
       "</table>\n",
       "</div>"
      ],
      "text/plain": [
       "      Variable Definitions                                         Unnamed: 1\n",
       "0                  country                         Country interviewee is in.\n",
       "1                     year                           Year survey was done in.\n",
       "2                 uniqueid             Unique identifier for each interviewee\n",
       "3            location_type                     Type of location: Rural, Urban\n",
       "4         cellphone_access  If interviewee has access to a cellphone: Yes, No\n",
       "5           household_size               Number of people living in one house\n",
       "6        age_of_respondent                         The age of the interviewee\n",
       "7     gender_of_respondent                Gender of interviewee: Male, Female\n",
       "8   relationship_with_head  The interviewee’s relationship with the head o...\n",
       "9           marital_status  The martial status of the interviewee: Married...\n",
       "10         education_level  Highest level of education: No formal educatio...\n",
       "11                job_type  Type of job interviewee has: Farming and Fishi..."
      ]
     },
     "execution_count": 407,
     "metadata": {},
     "output_type": "execute_result"
    }
   ],
   "source": [
    "#the column names and the meaning\n",
    "variables"
   ]
  },
  {
   "cell_type": "code",
   "execution_count": 408,
   "id": "ae6f1a51",
   "metadata": {
    "scrolled": true
   },
   "outputs": [
    {
     "data": {
      "text/html": [
       "<div>\n",
       "<style scoped>\n",
       "    .dataframe tbody tr th:only-of-type {\n",
       "        vertical-align: middle;\n",
       "    }\n",
       "\n",
       "    .dataframe tbody tr th {\n",
       "        vertical-align: top;\n",
       "    }\n",
       "\n",
       "    .dataframe thead th {\n",
       "        text-align: right;\n",
       "    }\n",
       "</style>\n",
       "<table border=\"1\" class=\"dataframe\">\n",
       "  <thead>\n",
       "    <tr style=\"text-align: right;\">\n",
       "      <th></th>\n",
       "      <th>year</th>\n",
       "      <th>household_size</th>\n",
       "      <th>age_of_respondent</th>\n",
       "    </tr>\n",
       "  </thead>\n",
       "  <tbody>\n",
       "    <tr>\n",
       "      <th>count</th>\n",
       "      <td>23524.00</td>\n",
       "      <td>23524.00</td>\n",
       "      <td>23524.00</td>\n",
       "    </tr>\n",
       "    <tr>\n",
       "      <th>mean</th>\n",
       "      <td>2016.98</td>\n",
       "      <td>3.80</td>\n",
       "      <td>38.81</td>\n",
       "    </tr>\n",
       "    <tr>\n",
       "      <th>std</th>\n",
       "      <td>0.85</td>\n",
       "      <td>2.23</td>\n",
       "      <td>16.52</td>\n",
       "    </tr>\n",
       "    <tr>\n",
       "      <th>min</th>\n",
       "      <td>2016.00</td>\n",
       "      <td>1.00</td>\n",
       "      <td>16.00</td>\n",
       "    </tr>\n",
       "    <tr>\n",
       "      <th>25%</th>\n",
       "      <td>2016.00</td>\n",
       "      <td>2.00</td>\n",
       "      <td>26.00</td>\n",
       "    </tr>\n",
       "    <tr>\n",
       "      <th>50%</th>\n",
       "      <td>2017.00</td>\n",
       "      <td>3.00</td>\n",
       "      <td>35.00</td>\n",
       "    </tr>\n",
       "    <tr>\n",
       "      <th>75%</th>\n",
       "      <td>2018.00</td>\n",
       "      <td>5.00</td>\n",
       "      <td>49.00</td>\n",
       "    </tr>\n",
       "    <tr>\n",
       "      <th>max</th>\n",
       "      <td>2018.00</td>\n",
       "      <td>21.00</td>\n",
       "      <td>100.00</td>\n",
       "    </tr>\n",
       "  </tbody>\n",
       "</table>\n",
       "</div>"
      ],
      "text/plain": [
       "          year  household_size  age_of_respondent\n",
       "count 23524.00        23524.00           23524.00\n",
       "mean   2016.98            3.80              38.81\n",
       "std       0.85            2.23              16.52\n",
       "min    2016.00            1.00              16.00\n",
       "25%    2016.00            2.00              26.00\n",
       "50%    2017.00            3.00              35.00\n",
       "75%    2018.00            5.00              49.00\n",
       "max    2018.00           21.00             100.00"
      ]
     },
     "execution_count": 408,
     "metadata": {},
     "output_type": "execute_result"
    }
   ],
   "source": [
    "#displaying the statistics of the continuous column in the train dataset\n",
    "train.describe()"
   ]
  },
  {
   "attachments": {},
   "cell_type": "markdown",
   "id": "3af432ee",
   "metadata": {},
   "source": [
    "## Exploratory Data Analysis"
   ]
  },
  {
   "cell_type": "code",
   "execution_count": 409,
   "id": "64af1229",
   "metadata": {},
   "outputs": [
    {
     "name": "stdout",
     "output_type": "stream",
     "text": [
      "<class 'pandas.core.frame.DataFrame'>\n",
      "RangeIndex: 23524 entries, 0 to 23523\n",
      "Data columns (total 12 columns):\n",
      " #   Column                  Non-Null Count  Dtype \n",
      "---  ------                  --------------  ----- \n",
      " 0   country                 23524 non-null  object\n",
      " 1   year                    23524 non-null  int64 \n",
      " 2   bank_account            23524 non-null  object\n",
      " 3   location_type           23524 non-null  object\n",
      " 4   cellphone_access        23524 non-null  object\n",
      " 5   household_size          23524 non-null  int64 \n",
      " 6   age_of_respondent       23524 non-null  int64 \n",
      " 7   gender_of_respondent    23524 non-null  object\n",
      " 8   relationship_with_head  23524 non-null  object\n",
      " 9   marital_status          23524 non-null  object\n",
      " 10  education_level         23524 non-null  object\n",
      " 11  job_type                23524 non-null  object\n",
      "dtypes: int64(3), object(9)\n",
      "memory usage: 2.2+ MB\n"
     ]
    }
   ],
   "source": [
    "train.info()"
   ]
  },
  {
   "cell_type": "code",
   "execution_count": 410,
   "id": "b36cb0d2",
   "metadata": {},
   "outputs": [
    {
     "data": {
      "text/plain": [
       "No     20212\n",
       "Yes     3312\n",
       "Name: bank_account, dtype: int64"
      ]
     },
     "execution_count": 410,
     "metadata": {},
     "output_type": "execute_result"
    }
   ],
   "source": [
    "#displaying the values of the classes in the bank account column\n",
    "train[\"bank_account\"].value_counts()"
   ]
  },
  {
   "attachments": {},
   "cell_type": "markdown",
   "id": "ab84bb5b",
   "metadata": {},
   "source": [
    "It is observed that the dataset is imbalanced since the class in the target column have huge difference"
   ]
  },
  {
   "cell_type": "code",
   "execution_count": 411,
   "id": "847688bb",
   "metadata": {},
   "outputs": [],
   "source": [
    "#Splitting the bank_ account column into two classes \"Yes\" and \"No\"\n",
    "Yes = train[train[\"bank_account\"] == \"Yes\"]\n",
    "No = train[train[\"bank_account\"] == \"No\"]"
   ]
  },
  {
   "cell_type": "code",
   "execution_count": 412,
   "id": "f4a265b1",
   "metadata": {},
   "outputs": [
    {
     "name": "stdout",
     "output_type": "stream",
     "text": [
      "(3312, 12)\n",
      "(20212, 12)\n"
     ]
    }
   ],
   "source": [
    "#displaying the shape of the new variables that contain the splitted classes of the bank_account\n",
    "print(Yes.shape)\n",
    "print(No.shape)"
   ]
  },
  {
   "attachments": {},
   "cell_type": "markdown",
   "id": "9270b1ca",
   "metadata": {},
   "source": [
    "#### Using Undersampling to solve the issue of the imbalanced dataset"
   ]
  },
  {
   "cell_type": "code",
   "execution_count": 413,
   "id": "d1144cca",
   "metadata": {},
   "outputs": [
    {
     "name": "stdout",
     "output_type": "stream",
     "text": [
      "(3312, 12)\n"
     ]
    }
   ],
   "source": [
    "#picking 3312 samples out of 20212 values in the No variable\n",
    "No_sample = No.sample(n=3312)\n",
    "print(No_sample.shape)"
   ]
  },
  {
   "cell_type": "code",
   "execution_count": 414,
   "id": "59fb8a53",
   "metadata": {},
   "outputs": [
    {
     "name": "stdout",
     "output_type": "stream",
     "text": [
      "      country  year bank_account location_type cellphone_access  \\\n",
      "21842  Uganda  2018           No         Rural              Yes   \n",
      "11660  Rwanda  2016           No         Rural               No   \n",
      "10447  Rwanda  2016           No         Rural              Yes   \n",
      "2379    Kenya  2018           No         Urban               No   \n",
      "7352   Rwanda  2016           No         Rural              Yes   \n",
      "\n",
      "       household_size  age_of_respondent gender_of_respondent  \\\n",
      "21842               2                 52                 Male   \n",
      "11660               4                 31               Female   \n",
      "10447               3                 85               Female   \n",
      "2379                5                 17               Female   \n",
      "7352                9                 45               Female   \n",
      "\n",
      "      relationship_with_head           marital_status      education_level  \\\n",
      "21842      Head of Household  Married/Living together    Primary education   \n",
      "11660                 Spouse  Married/Living together    Primary education   \n",
      "10447      Head of Household                  Widowed  No formal education   \n",
      "2379                   Child     Single/Never Married  Secondary education   \n",
      "7352                  Spouse  Married/Living together  Secondary education   \n",
      "\n",
      "                   job_type  \n",
      "21842         Self employed  \n",
      "11660   Farming and Fishing  \n",
      "10447  Remittance Dependent  \n",
      "2379   Remittance Dependent  \n",
      "7352    Farming and Fishing  \n",
      "(6624, 12)\n"
     ]
    }
   ],
   "source": [
    "#Concatenating the two dataframes, now we have a new dataframe\n",
    "new_df = pd.concat([No_sample, Yes], axis= 0)\n",
    "print(new_df.head())\n",
    "print(new_df.shape)"
   ]
  },
  {
   "cell_type": "code",
   "execution_count": 415,
   "id": "4f4af265",
   "metadata": {},
   "outputs": [
    {
     "data": {
      "text/plain": [
       "No     3312\n",
       "Yes    3312\n",
       "Name: bank_account, dtype: int64"
      ]
     },
     "execution_count": 415,
     "metadata": {},
     "output_type": "execute_result"
    }
   ],
   "source": [
    "#displaying the new values of the classes in the bank account column\n",
    "new_df[\"bank_account\"].value_counts()"
   ]
  },
  {
   "attachments": {},
   "cell_type": "markdown",
   "id": "c705fa55",
   "metadata": {},
   "source": [
    "It is observed that the classes in the bank account column now have the same number of values, hereby rectifying the imbalance in the dataset"
   ]
  },
  {
   "cell_type": "code",
   "execution_count": 416,
   "id": "63b95043",
   "metadata": {},
   "outputs": [],
   "source": [
    "cat_cols = [\"country\", \"bank_account\", \"location_type\", \"cellphone_access\",\n",
    "             \"gender_of_respondent\",\n",
    "             \"relationship_with_head\",\n",
    "             \"marital_status\",\n",
    "             \"education_level\",\n",
    "             \"job_type\"]"
   ]
  },
  {
   "cell_type": "code",
   "execution_count": 417,
   "id": "2275b439",
   "metadata": {},
   "outputs": [
    {
     "name": "stdout",
     "output_type": "stream",
     "text": [
      "['Uganda' 'Rwanda' 'Kenya' 'Tanzania']\n",
      "4\n",
      "['No' 'Yes']\n",
      "2\n",
      "['Rural' 'Urban']\n",
      "2\n",
      "['Yes' 'No']\n",
      "2\n",
      "['Male' 'Female']\n",
      "2\n",
      "['Head of Household' 'Spouse' 'Child' 'Other relative' 'Parent'\n",
      " 'Other non-relatives']\n",
      "6\n",
      "['Married/Living together' 'Widowed' 'Single/Never Married'\n",
      " 'Divorced/Seperated' 'Dont know']\n",
      "5\n",
      "['Primary education' 'No formal education' 'Secondary education'\n",
      " 'Tertiary education' 'Vocational/Specialised training'\n",
      " 'Other/Dont know/RTA']\n",
      "6\n",
      "['Self employed' 'Farming and Fishing' 'Remittance Dependent'\n",
      " 'Informally employed' 'No Income' 'Other Income'\n",
      " 'Formally employed Private' 'Government Dependent'\n",
      " 'Formally employed Government' 'Dont Know/Refuse to answer']\n",
      "10\n"
     ]
    }
   ],
   "source": [
    "#displaying the unique and number of unique values in the categorical columns\n",
    "for col in cat_cols:\n",
    "    print(new_df[col].unique())\n",
    "    print(new_df[col].nunique())"
   ]
  },
  {
   "cell_type": "code",
   "execution_count": 418,
   "id": "93ff0853",
   "metadata": {
    "scrolled": true
   },
   "outputs": [
    {
     "data": {
      "text/plain": [
       "Self employed                   1752\n",
       "Farming and Fishing             1450\n",
       "Informally employed             1250\n",
       "Formally employed Private        666\n",
       "Remittance Dependent             627\n",
       "Other Income                     333\n",
       "Formally employed Government     316\n",
       "No Income                        115\n",
       "Government Dependent              85\n",
       "Dont Know/Refuse to answer        30\n",
       "Name: job_type, dtype: int64"
      ]
     },
     "execution_count": 418,
     "metadata": {},
     "output_type": "execute_result"
    }
   ],
   "source": [
    "#displaying the values of the classes in the job type column\n",
    "new_df[\"job_type\"].value_counts()"
   ]
  },
  {
   "attachments": {},
   "cell_type": "markdown",
   "id": "69e503c0",
   "metadata": {},
   "source": [
    "Majority of the people that responded to the survey are self employed "
   ]
  },
  {
   "cell_type": "code",
   "execution_count": 419,
   "id": "613da352",
   "metadata": {
    "scrolled": true
   },
   "outputs": [
    {
     "data": {
      "text/plain": [
       "Married/Living together    3341\n",
       "Single/Never Married       2129\n",
       "Widowed                     640\n",
       "Divorced/Seperated          512\n",
       "Dont know                     2\n",
       "Name: marital_status, dtype: int64"
      ]
     },
     "execution_count": 419,
     "metadata": {},
     "output_type": "execute_result"
    }
   ],
   "source": [
    "#displaying the values of the classes in the marital_status column\n",
    "new_df[\"marital_status\"].value_counts()"
   ]
  },
  {
   "attachments": {},
   "cell_type": "markdown",
   "id": "77b171d0",
   "metadata": {},
   "source": [
    "Majority of the people that responded to the survey are Married/Living together"
   ]
  },
  {
   "cell_type": "code",
   "execution_count": 420,
   "id": "768bb3db",
   "metadata": {
    "scrolled": false
   },
   "outputs": [
    {
     "data": {
      "image/png": "[encoded data removed]",
      "text/plain": [
       "<Figure size 432x288 with 1 Axes>"
      ]
     },
     "metadata": {
      "needs_background": "light"
     },
     "output_type": "display_data"
    }
   ],
   "source": [
    "sns.countplot(new_df.household_size, color = \"magenta\")\n",
    "plt.title(\"The Count of the Household_size Column\");"
   ]
  },
  {
   "attachments": {},
   "cell_type": "markdown",
   "id": "f9209189",
   "metadata": {},
   "source": [
    "It can be observed that majority that answered the survey are from the household_size of 2,3,4 respectively"
   ]
  },
  {
   "cell_type": "code",
   "execution_count": 421,
   "id": "49ff3d52",
   "metadata": {
    "scrolled": false
   },
   "outputs": [
    {
     "data": {
      "image/png": "[encoded data removed]",
      "text/plain": [
       "<Figure size 432x288 with 1 Axes>"
      ]
     },
     "metadata": {
      "needs_background": "light"
     },
     "output_type": "display_data"
    }
   ],
   "source": [
    "sns.countplot(new_df.relationship_with_head, color = \"purple\")\n",
    "plt.xticks(rotation = 90)\n",
    "plt.title(\"The Count of the Relationship_with_head Column\");"
   ]
  },
  {
   "attachments": {},
   "cell_type": "markdown",
   "id": "da11f6f7",
   "metadata": {},
   "source": [
    "It can be observed that majority that answered the survey is the Head of the Household followed by the spouse"
   ]
  },
  {
   "cell_type": "code",
   "execution_count": 422,
   "id": "a9b7f33c",
   "metadata": {
    "scrolled": false
   },
   "outputs": [
    {
     "data": {
      "image/png": "[encoded data removed]",
      "text/plain": [
       "<Figure size 432x288 with 1 Axes>"
      ]
     },
     "metadata": {
      "needs_background": "light"
     },
     "output_type": "display_data"
    }
   ],
   "source": [
    "sns.histplot(new_df.age_of_respondent, kde = True, color = \"magenta\")\n",
    "plt.title(\"The Count of the Age_of_respondent\");"
   ]
  },
  {
   "attachments": {},
   "cell_type": "markdown",
   "id": "0a214682",
   "metadata": {},
   "source": [
    "It is observed from the above histogram that majority that answered this survey are between the range of 30 to 40"
   ]
  },
  {
   "cell_type": "code",
   "execution_count": 423,
   "id": "02e11078",
   "metadata": {
    "scrolled": false
   },
   "outputs": [
    {
     "data": {
      "image/png": "[encoded data removed]",
      "text/plain": [
       "<Figure size 432x288 with 1 Axes>"
      ]
     },
     "metadata": {
      "needs_background": "light"
     },
     "output_type": "display_data"
    }
   ],
   "source": [
    "sns.countplot(new_df.gender_of_respondent, color = \"purple\")\n",
    "plt.title(\"The Count of Gender_of_Respondent Column\");"
   ]
  },
  {
   "attachments": {},
   "cell_type": "markdown",
   "id": "ea4231c8",
   "metadata": {},
   "source": [
    "Majority of the people that answered the survey are female"
   ]
  },
  {
   "cell_type": "code",
   "execution_count": 424,
   "id": "8bb123d2",
   "metadata": {
    "scrolled": true
   },
   "outputs": [
    {
     "data": {
      "image/png": "[encoded data removed]",
      "text/plain": [
       "<Figure size 432x288 with 1 Axes>"
      ]
     },
     "metadata": {
      "needs_background": "light"
     },
     "output_type": "display_data"
    }
   ],
   "source": [
    "sns.countplot(new_df[\"cellphone_access\"], color = \"purple\")\n",
    "plt.title(\"The Count of People with Cellphone access\");"
   ]
  },
  {
   "attachments": {},
   "cell_type": "markdown",
   "id": "a0e204a0",
   "metadata": {},
   "source": [
    "It is observed that majority of the people that answered the survey as access to cellphone"
   ]
  },
  {
   "cell_type": "code",
   "execution_count": 425,
   "id": "b736777f",
   "metadata": {
    "scrolled": true
   },
   "outputs": [
    {
     "data": {
      "image/png": "[encoded data removed]",
      "text/plain": [
       "<Figure size 432x288 with 1 Axes>"
      ]
     },
     "metadata": {
      "needs_background": "light"
     },
     "output_type": "display_data"
    }
   ],
   "source": [
    "sns.countplot(new_df[\"location_type\"], color= \"magenta\")\n",
    "plt.title(\"The Count of Location_type Column\");"
   ]
  },
  {
   "attachments": {},
   "cell_type": "markdown",
   "id": "2ef506a1",
   "metadata": {},
   "source": [
    "Majority of the people that answered the suvey lives in a rural area"
   ]
  },
  {
   "cell_type": "code",
   "execution_count": 426,
   "id": "8929fbd1",
   "metadata": {
    "scrolled": false
   },
   "outputs": [
    {
     "data": {
      "image/png": "[encoded data removed]",
      "text/plain": [
       "<Figure size 432x288 with 1 Axes>"
      ]
     },
     "metadata": {
      "needs_background": "light"
     },
     "output_type": "display_data"
    }
   ],
   "source": [
    "sns.countplot(new_df.bank_account, color = \"purple\")\n",
    "plt.title(\"The Count of People with Bank_account\");"
   ]
  },
  {
   "attachments": {},
   "cell_type": "markdown",
   "id": "7b5db037",
   "metadata": {},
   "source": [
    "Majority of people that answered the survey does not have a bank account despite having access to a cellphone"
   ]
  },
  {
   "cell_type": "code",
   "execution_count": 427,
   "id": "ac66dacf",
   "metadata": {
    "scrolled": false
   },
   "outputs": [
    {
     "data": {
      "image/png": "[encoded data removed]",
      "text/plain": [
       "<Figure size 432x288 with 1 Axes>"
      ]
     },
     "metadata": {
      "needs_background": "light"
     },
     "output_type": "display_data"
    }
   ],
   "source": [
    "sns.countplot(new_df.year, color = \"purple\", \n",
    "              order=train.year.value_counts().sort_values(ascending=False).index.to_list())\n",
    "plt.title(\"The Count of Year with the highest responses\");"
   ]
  },
  {
   "attachments": {},
   "cell_type": "markdown",
   "id": "9c3fd1ea",
   "metadata": {},
   "source": [
    "It is observed that the dataset is filled with more response from the year 2016, though the difference between the other years is little"
   ]
  },
  {
   "cell_type": "code",
   "execution_count": 428,
   "id": "6128fa10",
   "metadata": {},
   "outputs": [
    {
     "data": {
      "image/png": "[encoded data removed]",
      "text/plain": [
       "<Figure size 432x288 with 1 Axes>"
      ]
     },
     "metadata": {
      "needs_background": "light"
     },
     "output_type": "display_data"
    }
   ],
   "source": [
    "base_color = sns.color_palette()[4]\n",
    "sns.countplot(train.country, \n",
    "              color = base_color, order=train.country.value_counts().sort_values(ascending=False).index.to_list())\n",
    "plt.title(\"The Count of Country\");"
   ]
  },
  {
   "attachments": {},
   "cell_type": "markdown",
   "id": "69b82366",
   "metadata": {},
   "source": [
    "It can be observed thatr majority of the response are from Rwanda followed by Tanzania"
   ]
  },
  {
   "cell_type": "code",
   "execution_count": 429,
   "id": "564befa5",
   "metadata": {
    "scrolled": true
   },
   "outputs": [
    {
     "data": {
      "image/png": "[encoded data removed]",
      "text/plain": [
       "<Figure size 432x288 with 1 Axes>"
      ]
     },
     "metadata": {
      "needs_background": "light"
     },
     "output_type": "display_data"
    }
   ],
   "source": [
    "sns.boxplot(new_df.age_of_respondent, color = base_color);"
   ]
  },
  {
   "attachments": {},
   "cell_type": "markdown",
   "id": "938c0588",
   "metadata": {},
   "source": [
    "It can be observed that there are several outliers in the Age_of_respondent column. That shows that only few people between the age range of 80 to 100 responded to the survey"
   ]
  },
  {
   "cell_type": "code",
   "execution_count": 430,
   "id": "9a5003ff",
   "metadata": {
    "scrolled": true
   },
   "outputs": [
    {
     "data": {
      "image/png": "[encoded data removed]",
      "text/plain": [
       "<Figure size 432x288 with 1 Axes>"
      ]
     },
     "metadata": {
      "needs_background": "light"
     },
     "output_type": "display_data"
    }
   ],
   "source": [
    "sns.boxplot(new_df.household_size, color= base_color);"
   ]
  },
  {
   "cell_type": "code",
   "execution_count": 431,
   "id": "73188694",
   "metadata": {},
   "outputs": [],
   "source": [
    "#importing the necessary machine learning libraries\n",
    "from sklearn.preprocessing import LabelEncoder\n",
    "from sklearn.model_selection import train_test_split\n",
    "from sklearn.linear_model import LogisticRegression\n",
    "from sklearn.metrics import accuracy_score, classification_report\n",
    "from sklearn.feature_selection import SelectKBest, chi2, mutual_info_classif, f_classif\n",
    "from statsmodels.stats.outliers_influence import variance_inflation_factor"
   ]
  },
  {
   "cell_type": "code",
   "execution_count": 432,
   "id": "b20b155f",
   "metadata": {},
   "outputs": [],
   "source": [
    "#using the LabelEncoder library to convert categorical variables to continuous variables\n",
    "le_bank_account = LabelEncoder()\n",
    "le_location_type = LabelEncoder()\n",
    "le_cellphone_access = LabelEncoder()\n",
    "le_gender_of_respondent = LabelEncoder()\n",
    "le_relationship_with_head = LabelEncoder()\n",
    "le_marital_status = LabelEncoder()\n",
    "le_education_level = LabelEncoder()\n",
    "le_job_type = LabelEncoder()\n",
    "le_country = LabelEncoder()"
   ]
  },
  {
   "cell_type": "code",
   "execution_count": 433,
   "id": "ab59e60e",
   "metadata": {},
   "outputs": [],
   "source": [
    "new_df[\"bank_account\"] = le_bank_account.fit_transform(new_df[\"bank_account\"])\n",
    "new_df[\"location_type\"] = le_location_type.fit_transform(new_df[\"location_type\"])\n",
    "new_df[\"cellphone_access\"] = le_cellphone_access.fit_transform(new_df[\"cellphone_access\"])\n",
    "new_df[\"gender_of_respondent\"] = le_gender_of_respondent.fit_transform(new_df[\"gender_of_respondent\"])\n",
    "new_df[\"relationship_with_head\"] = le_relationship_with_head.fit_transform(new_df[\"relationship_with_head\"])\n",
    "new_df[\"marital_status\"] = le_marital_status.fit_transform(new_df[\"marital_status\"])\n",
    "new_df[\"education_level\"] = le_education_level.fit_transform(new_df[\"education_level\"])\n",
    "new_df[\"job_type\"] = le_bank_account.fit_transform(new_df[\"job_type\"])\n",
    "new_df[\"country\"] = le_country.fit_transform(new_df[\"country\"])"
   ]
  },
  {
   "cell_type": "code",
   "execution_count": 434,
   "id": "a664d6aa",
   "metadata": {},
   "outputs": [],
   "source": [
    "#splitting into the feature and target variable and also dropping the columns not needed in building the model\n",
    "X= new_df.drop(columns = [\"bank_account\"], axis = 1)\n",
    "y = new_df[\"bank_account\"]"
   ]
  },
  {
   "cell_type": "code",
   "execution_count": 435,
   "id": "69dc227e",
   "metadata": {
    "scrolled": true
   },
   "outputs": [
    {
     "name": "stdout",
     "output_type": "stream",
     "text": [
      "       country  year  location_type  cellphone_access  household_size  \\\n",
      "21842        3  2018              0                 1               2   \n",
      "11660        1  2016              0                 0               4   \n",
      "10447        1  2016              0                 1               3   \n",
      "2379         0  2018              1                 0               5   \n",
      "7352         1  2016              0                 1               9   \n",
      "\n",
      "       age_of_respondent  gender_of_respondent  relationship_with_head  \\\n",
      "21842                 52                     1                       1   \n",
      "11660                 31                     0                       5   \n",
      "10447                 85                     0                       1   \n",
      "2379                  17                     0                       0   \n",
      "7352                  45                     0                       5   \n",
      "\n",
      "       marital_status  education_level  job_type  \n",
      "21842               2                2         9  \n",
      "11660               2                2         1  \n",
      "10447               4                0         8  \n",
      "2379                3                3         8  \n",
      "7352                2                3         1  \n",
      "(6624, 11)\n"
     ]
    }
   ],
   "source": [
    "#displaying the first five rows of the independent variable and the shape of the independent variable\n",
    "print(X.head())\n",
    "print(X.shape)"
   ]
  },
  {
   "cell_type": "code",
   "execution_count": 436,
   "id": "4e26ffc9",
   "metadata": {
    "scrolled": true
   },
   "outputs": [
    {
     "name": "stdout",
     "output_type": "stream",
     "text": [
      "21842    0\n",
      "11660    0\n",
      "10447    0\n",
      "2379     0\n",
      "7352     0\n",
      "Name: bank_account, dtype: int32\n",
      "(6624,)\n"
     ]
    }
   ],
   "source": [
    "#displaying the first five rows of our dependent variable and the shape of the dependent variable\n",
    "print(y.head())\n",
    "print(y.shape)"
   ]
  },
  {
   "attachments": {},
   "cell_type": "markdown",
   "id": "34520b6a",
   "metadata": {},
   "source": [
    "#### Feature Selection"
   ]
  },
  {
   "cell_type": "code",
   "execution_count": 437,
   "id": "5eccc9d6",
   "metadata": {},
   "outputs": [],
   "source": [
    "selector = SelectKBest(mutual_info_classif, k=8)\n",
    "x_new = selector.fit_transform(X,y)"
   ]
  },
  {
   "cell_type": "code",
   "execution_count": 438,
   "id": "0d3f84c6",
   "metadata": {},
   "outputs": [
    {
     "name": "stdout",
     "output_type": "stream",
     "text": [
      "Index(['country', 'year', 'cellphone_access', 'age_of_respondent',\n",
      "       'gender_of_respondent', 'relationship_with_head', 'education_level',\n",
      "       'job_type'],\n",
      "      dtype='object')\n"
     ]
    }
   ],
   "source": [
    "selected_features = selector.get_support(indices=True)\n",
    "feature_names = X.columns[selected_features]\n",
    "print(feature_names)"
   ]
  },
  {
   "attachments": {},
   "cell_type": "markdown",
   "id": "1a117c0e",
   "metadata": {},
   "source": [
    "Using the p_values to select the best features for our model"
   ]
  },
  {
   "cell_type": "code",
   "execution_count": 439,
   "id": "bbf11ac8",
   "metadata": {},
   "outputs": [
    {
     "name": "stdout",
     "output_type": "stream",
     "text": [
      "              Feature_Name  f_score  p_values\n",
      "9          education_level  1416.45      0.00\n",
      "3         cellphone_access   934.47      0.00\n",
      "0                  country   332.95      0.00\n",
      "6     gender_of_respondent   207.55      0.00\n",
      "1                     year   180.81      0.00\n",
      "2            location_type   114.14      0.00\n",
      "7   relationship_with_head    76.67      0.00\n",
      "10                job_type    46.52      0.00\n",
      "8           marital_status    29.40      0.00\n",
      "4           household_size    13.71      0.00\n",
      "5        age_of_respondent     5.54      0.02\n"
     ]
    }
   ],
   "source": [
    "f_scores, p_values = f_classif(X, y)\n",
    "f_scores_df = pd.DataFrame({\"Feature_Name\": X.columns, \"f_score\": f_scores, \"p_values\": p_values})\n",
    "f_scores_df.sort_values(by=\"f_score\", ascending=False, inplace=True)\n",
    "print(f_scores_df)"
   ]
  },
  {
   "cell_type": "code",
   "execution_count": 440,
   "id": "f3a599fc",
   "metadata": {},
   "outputs": [
    {
     "name": "stdout",
     "output_type": "stream",
     "text": [
      "age_of_respondent        0.02\n",
      "household_size           0.00\n",
      "marital_status           0.00\n",
      "job_type                 0.00\n",
      "relationship_with_head   0.00\n",
      "location_type            0.00\n",
      "year                     0.00\n",
      "gender_of_respondent     0.00\n",
      "country                  0.00\n",
      "cellphone_access         0.00\n",
      "education_level          0.00\n",
      "dtype: float64\n"
     ]
    }
   ],
   "source": [
    "p_values_df = pd.Series(p_values, index = X.columns)\n",
    "p_values_df.sort_values(ascending=False, inplace=True)\n",
    "print(p_values_df)"
   ]
  },
  {
   "cell_type": "code",
   "execution_count": 441,
   "id": "e0c0546d",
   "metadata": {},
   "outputs": [
    {
     "data": {
      "image/png": "[encoded data removed]",
      "text/plain": [
       "<Figure size 432x288 with 1 Axes>"
      ]
     },
     "metadata": {
      "needs_background": "light"
     },
     "output_type": "display_data"
    }
   ],
   "source": [
    "#displaying the features to drop in the independent variable, the column with the highest bar are to be dropped\n",
    "p_values_df.plot.bar();"
   ]
  },
  {
   "cell_type": "code",
   "execution_count": 442,
   "id": "b9254450",
   "metadata": {},
   "outputs": [
    {
     "data": {
      "text/html": [
       "<div>\n",
       "<style scoped>\n",
       "    .dataframe tbody tr th:only-of-type {\n",
       "        vertical-align: middle;\n",
       "    }\n",
       "\n",
       "    .dataframe tbody tr th {\n",
       "        vertical-align: top;\n",
       "    }\n",
       "\n",
       "    .dataframe thead th {\n",
       "        text-align: right;\n",
       "    }\n",
       "</style>\n",
       "<table border=\"1\" class=\"dataframe\">\n",
       "  <thead>\n",
       "    <tr style=\"text-align: right;\">\n",
       "      <th></th>\n",
       "      <th>country</th>\n",
       "      <th>year</th>\n",
       "      <th>location_type</th>\n",
       "      <th>cellphone_access</th>\n",
       "      <th>gender_of_respondent</th>\n",
       "      <th>relationship_with_head</th>\n",
       "      <th>marital_status</th>\n",
       "      <th>education_level</th>\n",
       "      <th>job_type</th>\n",
       "    </tr>\n",
       "  </thead>\n",
       "  <tbody>\n",
       "    <tr>\n",
       "      <th>21842</th>\n",
       "      <td>3</td>\n",
       "      <td>2018</td>\n",
       "      <td>0</td>\n",
       "      <td>1</td>\n",
       "      <td>1</td>\n",
       "      <td>1</td>\n",
       "      <td>2</td>\n",
       "      <td>2</td>\n",
       "      <td>9</td>\n",
       "    </tr>\n",
       "    <tr>\n",
       "      <th>11660</th>\n",
       "      <td>1</td>\n",
       "      <td>2016</td>\n",
       "      <td>0</td>\n",
       "      <td>0</td>\n",
       "      <td>0</td>\n",
       "      <td>5</td>\n",
       "      <td>2</td>\n",
       "      <td>2</td>\n",
       "      <td>1</td>\n",
       "    </tr>\n",
       "    <tr>\n",
       "      <th>10447</th>\n",
       "      <td>1</td>\n",
       "      <td>2016</td>\n",
       "      <td>0</td>\n",
       "      <td>1</td>\n",
       "      <td>0</td>\n",
       "      <td>1</td>\n",
       "      <td>4</td>\n",
       "      <td>0</td>\n",
       "      <td>8</td>\n",
       "    </tr>\n",
       "    <tr>\n",
       "      <th>2379</th>\n",
       "      <td>0</td>\n",
       "      <td>2018</td>\n",
       "      <td>1</td>\n",
       "      <td>0</td>\n",
       "      <td>0</td>\n",
       "      <td>0</td>\n",
       "      <td>3</td>\n",
       "      <td>3</td>\n",
       "      <td>8</td>\n",
       "    </tr>\n",
       "    <tr>\n",
       "      <th>7352</th>\n",
       "      <td>1</td>\n",
       "      <td>2016</td>\n",
       "      <td>0</td>\n",
       "      <td>1</td>\n",
       "      <td>0</td>\n",
       "      <td>5</td>\n",
       "      <td>2</td>\n",
       "      <td>3</td>\n",
       "      <td>1</td>\n",
       "    </tr>\n",
       "  </tbody>\n",
       "</table>\n",
       "</div>"
      ],
      "text/plain": [
       "       country  year  location_type  cellphone_access  gender_of_respondent  \\\n",
       "21842        3  2018              0                 1                     1   \n",
       "11660        1  2016              0                 0                     0   \n",
       "10447        1  2016              0                 1                     0   \n",
       "2379         0  2018              1                 0                     0   \n",
       "7352         1  2016              0                 1                     0   \n",
       "\n",
       "       relationship_with_head  marital_status  education_level  job_type  \n",
       "21842                       1               2                2         9  \n",
       "11660                       5               2                2         1  \n",
       "10447                       1               4                0         8  \n",
       "2379                        0               3                3         8  \n",
       "7352                        5               2                3         1  "
      ]
     },
     "execution_count": 442,
     "metadata": {},
     "output_type": "execute_result"
    }
   ],
   "source": [
    "#dropping the column that are not necessary for our model based on the p_values\n",
    "X.drop(columns=[\"age_of_respondent\", \"household_size\"], inplace=True)\n",
    "X.head()"
   ]
  },
  {
   "attachments": {},
   "cell_type": "markdown",
   "id": "f62bc2e2",
   "metadata": {},
   "source": [
    "#### Checking for Multicollinearity"
   ]
  },
  {
   "attachments": {},
   "cell_type": "markdown",
   "id": "7510027d",
   "metadata": {},
   "source": [
    "VIF = 1: There is no correlation between a given predictor variable and any other predictor variables in the model      \n",
    "VIF  between 1 and 5: There is moderate correlation between a given predictor variable and other predictor variables in the model\n",
    "VIF > 5: There is severe correlation between a given predictor variable and other predictor variables in the model"
   ]
  },
  {
   "cell_type": "code",
   "execution_count": 443,
   "id": "aa868847",
   "metadata": {},
   "outputs": [
    {
     "data": {
      "text/html": [
       "<div>\n",
       "<style scoped>\n",
       "    .dataframe tbody tr th:only-of-type {\n",
       "        vertical-align: middle;\n",
       "    }\n",
       "\n",
       "    .dataframe tbody tr th {\n",
       "        vertical-align: top;\n",
       "    }\n",
       "\n",
       "    .dataframe thead th {\n",
       "        text-align: right;\n",
       "    }\n",
       "</style>\n",
       "<table border=\"1\" class=\"dataframe\">\n",
       "  <thead>\n",
       "    <tr style=\"text-align: right;\">\n",
       "      <th></th>\n",
       "      <th>feature</th>\n",
       "      <th>VIF</th>\n",
       "    </tr>\n",
       "  </thead>\n",
       "  <tbody>\n",
       "    <tr>\n",
       "      <th>1</th>\n",
       "      <td>year</td>\n",
       "      <td>26.35</td>\n",
       "    </tr>\n",
       "    <tr>\n",
       "      <th>6</th>\n",
       "      <td>marital_status</td>\n",
       "      <td>7.83</td>\n",
       "    </tr>\n",
       "    <tr>\n",
       "      <th>3</th>\n",
       "      <td>cellphone_access</td>\n",
       "      <td>7.10</td>\n",
       "    </tr>\n",
       "    <tr>\n",
       "      <th>7</th>\n",
       "      <td>education_level</td>\n",
       "      <td>5.05</td>\n",
       "    </tr>\n",
       "    <tr>\n",
       "      <th>8</th>\n",
       "      <td>job_type</td>\n",
       "      <td>4.57</td>\n",
       "    </tr>\n",
       "    <tr>\n",
       "      <th>5</th>\n",
       "      <td>relationship_with_head</td>\n",
       "      <td>3.27</td>\n",
       "    </tr>\n",
       "    <tr>\n",
       "      <th>4</th>\n",
       "      <td>gender_of_respondent</td>\n",
       "      <td>2.66</td>\n",
       "    </tr>\n",
       "    <tr>\n",
       "      <th>0</th>\n",
       "      <td>country</td>\n",
       "      <td>2.53</td>\n",
       "    </tr>\n",
       "    <tr>\n",
       "      <th>2</th>\n",
       "      <td>location_type</td>\n",
       "      <td>2.01</td>\n",
       "    </tr>\n",
       "  </tbody>\n",
       "</table>\n",
       "</div>"
      ],
      "text/plain": [
       "                  feature   VIF\n",
       "1                    year 26.35\n",
       "6          marital_status  7.83\n",
       "3        cellphone_access  7.10\n",
       "7         education_level  5.05\n",
       "8                job_type  4.57\n",
       "5  relationship_with_head  3.27\n",
       "4    gender_of_respondent  2.66\n",
       "0                 country  2.53\n",
       "2           location_type  2.01"
      ]
     },
     "execution_count": 443,
     "metadata": {},
     "output_type": "execute_result"
    }
   ],
   "source": [
    "vif_df = pd.DataFrame()\n",
    "vif_df[\"feature\"] = X.columns\n",
    "vif_df[\"VIF\"] = [variance_inflation_factor(X.values, i) for i in range(len(X.columns))]\n",
    "vif_df.sort_values(by=\"VIF\", ascending=False)"
   ]
  },
  {
   "cell_type": "code",
   "execution_count": 444,
   "id": "e92679b5",
   "metadata": {},
   "outputs": [
    {
     "data": {
      "text/html": [
       "<div>\n",
       "<style scoped>\n",
       "    .dataframe tbody tr th:only-of-type {\n",
       "        vertical-align: middle;\n",
       "    }\n",
       "\n",
       "    .dataframe tbody tr th {\n",
       "        vertical-align: top;\n",
       "    }\n",
       "\n",
       "    .dataframe thead th {\n",
       "        text-align: right;\n",
       "    }\n",
       "</style>\n",
       "<table border=\"1\" class=\"dataframe\">\n",
       "  <thead>\n",
       "    <tr style=\"text-align: right;\">\n",
       "      <th></th>\n",
       "      <th>country</th>\n",
       "      <th>location_type</th>\n",
       "      <th>cellphone_access</th>\n",
       "      <th>gender_of_respondent</th>\n",
       "      <th>relationship_with_head</th>\n",
       "      <th>marital_status</th>\n",
       "      <th>education_level</th>\n",
       "      <th>job_type</th>\n",
       "    </tr>\n",
       "  </thead>\n",
       "  <tbody>\n",
       "    <tr>\n",
       "      <th>21842</th>\n",
       "      <td>3</td>\n",
       "      <td>0</td>\n",
       "      <td>1</td>\n",
       "      <td>1</td>\n",
       "      <td>1</td>\n",
       "      <td>2</td>\n",
       "      <td>2</td>\n",
       "      <td>9</td>\n",
       "    </tr>\n",
       "    <tr>\n",
       "      <th>11660</th>\n",
       "      <td>1</td>\n",
       "      <td>0</td>\n",
       "      <td>0</td>\n",
       "      <td>0</td>\n",
       "      <td>5</td>\n",
       "      <td>2</td>\n",
       "      <td>2</td>\n",
       "      <td>1</td>\n",
       "    </tr>\n",
       "    <tr>\n",
       "      <th>10447</th>\n",
       "      <td>1</td>\n",
       "      <td>0</td>\n",
       "      <td>1</td>\n",
       "      <td>0</td>\n",
       "      <td>1</td>\n",
       "      <td>4</td>\n",
       "      <td>0</td>\n",
       "      <td>8</td>\n",
       "    </tr>\n",
       "    <tr>\n",
       "      <th>2379</th>\n",
       "      <td>0</td>\n",
       "      <td>1</td>\n",
       "      <td>0</td>\n",
       "      <td>0</td>\n",
       "      <td>0</td>\n",
       "      <td>3</td>\n",
       "      <td>3</td>\n",
       "      <td>8</td>\n",
       "    </tr>\n",
       "    <tr>\n",
       "      <th>7352</th>\n",
       "      <td>1</td>\n",
       "      <td>0</td>\n",
       "      <td>1</td>\n",
       "      <td>0</td>\n",
       "      <td>5</td>\n",
       "      <td>2</td>\n",
       "      <td>3</td>\n",
       "      <td>1</td>\n",
       "    </tr>\n",
       "  </tbody>\n",
       "</table>\n",
       "</div>"
      ],
      "text/plain": [
       "       country  location_type  cellphone_access  gender_of_respondent  \\\n",
       "21842        3              0                 1                     1   \n",
       "11660        1              0                 0                     0   \n",
       "10447        1              0                 1                     0   \n",
       "2379         0              1                 0                     0   \n",
       "7352         1              0                 1                     0   \n",
       "\n",
       "       relationship_with_head  marital_status  education_level  job_type  \n",
       "21842                       1               2                2         9  \n",
       "11660                       5               2                2         1  \n",
       "10447                       1               4                0         8  \n",
       "2379                        0               3                3         8  \n",
       "7352                        5               2                3         1  "
      ]
     },
     "execution_count": 444,
     "metadata": {},
     "output_type": "execute_result"
    }
   ],
   "source": [
    "#dropping multicollinearity column\n",
    "X.drop(columns=[\"year\"], axis=1, inplace=True)\n",
    "X.head()"
   ]
  },
  {
   "cell_type": "code",
   "execution_count": 445,
   "id": "86486ada",
   "metadata": {},
   "outputs": [
    {
     "data": {
      "text/html": [
       "<div>\n",
       "<style scoped>\n",
       "    .dataframe tbody tr th:only-of-type {\n",
       "        vertical-align: middle;\n",
       "    }\n",
       "\n",
       "    .dataframe tbody tr th {\n",
       "        vertical-align: top;\n",
       "    }\n",
       "\n",
       "    .dataframe thead th {\n",
       "        text-align: right;\n",
       "    }\n",
       "</style>\n",
       "<table border=\"1\" class=\"dataframe\">\n",
       "  <thead>\n",
       "    <tr style=\"text-align: right;\">\n",
       "      <th></th>\n",
       "      <th>feature</th>\n",
       "      <th>VIF</th>\n",
       "    </tr>\n",
       "  </thead>\n",
       "  <tbody>\n",
       "    <tr>\n",
       "      <th>2</th>\n",
       "      <td>cellphone_access</td>\n",
       "      <td>5.79</td>\n",
       "    </tr>\n",
       "    <tr>\n",
       "      <th>6</th>\n",
       "      <td>education_level</td>\n",
       "      <td>4.71</td>\n",
       "    </tr>\n",
       "    <tr>\n",
       "      <th>5</th>\n",
       "      <td>marital_status</td>\n",
       "      <td>4.69</td>\n",
       "    </tr>\n",
       "    <tr>\n",
       "      <th>7</th>\n",
       "      <td>job_type</td>\n",
       "      <td>4.23</td>\n",
       "    </tr>\n",
       "    <tr>\n",
       "      <th>4</th>\n",
       "      <td>relationship_with_head</td>\n",
       "      <td>2.59</td>\n",
       "    </tr>\n",
       "    <tr>\n",
       "      <th>0</th>\n",
       "      <td>country</td>\n",
       "      <td>2.46</td>\n",
       "    </tr>\n",
       "    <tr>\n",
       "      <th>3</th>\n",
       "      <td>gender_of_respondent</td>\n",
       "      <td>2.26</td>\n",
       "    </tr>\n",
       "    <tr>\n",
       "      <th>1</th>\n",
       "      <td>location_type</td>\n",
       "      <td>2.01</td>\n",
       "    </tr>\n",
       "  </tbody>\n",
       "</table>\n",
       "</div>"
      ],
      "text/plain": [
       "                  feature  VIF\n",
       "2        cellphone_access 5.79\n",
       "6         education_level 4.71\n",
       "5          marital_status 4.69\n",
       "7                job_type 4.23\n",
       "4  relationship_with_head 2.59\n",
       "0                 country 2.46\n",
       "3    gender_of_respondent 2.26\n",
       "1           location_type 2.01"
      ]
     },
     "execution_count": 445,
     "metadata": {},
     "output_type": "execute_result"
    }
   ],
   "source": [
    "vif_df = pd.DataFrame()\n",
    "vif_df[\"feature\"] = X.columns\n",
    "vif_df[\"VIF\"] = [variance_inflation_factor(X.values, i) for i in range(len(X.columns))]\n",
    "vif_df.sort_values(by=\"VIF\", ascending=False)"
   ]
  },
  {
   "cell_type": "code",
   "execution_count": 474,
   "id": "ef64422d",
   "metadata": {},
   "outputs": [],
   "source": [
    "#splitting into the training and testing, training 80% of our data and testing 20% of our data\n",
    "X_train, X_test, y_train, y_test = train_test_split(X, y, train_size = 0.8, random_state=42, stratify=y)"
   ]
  },
  {
   "cell_type": "code",
   "execution_count": 475,
   "id": "dbb8bbb9",
   "metadata": {
    "scrolled": true
   },
   "outputs": [
    {
     "name": "stdout",
     "output_type": "stream",
     "text": [
      "(5299, 8)\n",
      "(5299,)\n"
     ]
    }
   ],
   "source": [
    "#displaying the number of rows and columns for our training dataset\n",
    "print(X_train.shape)\n",
    "print(y_train.shape)"
   ]
  },
  {
   "cell_type": "code",
   "execution_count": 476,
   "id": "b36b1c5a",
   "metadata": {},
   "outputs": [
    {
     "name": "stdout",
     "output_type": "stream",
     "text": [
      "(1325, 8)\n",
      "(1325,)\n"
     ]
    }
   ],
   "source": [
    "#displaying the number of rows and columns for our testing dataset\n",
    "print(X_test.shape)\n",
    "print(y_test.shape)"
   ]
  },
  {
   "cell_type": "code",
   "execution_count": 477,
   "id": "24bf3dd6",
   "metadata": {},
   "outputs": [
    {
     "data": {
      "text/plain": [
       "LogisticRegression()"
      ]
     },
     "execution_count": 477,
     "metadata": {},
     "output_type": "execute_result"
    }
   ],
   "source": [
    "#assigning the variable name model to our LogisticRegression model\n",
    "model = LogisticRegression()\n",
    "model"
   ]
  },
  {
   "cell_type": "code",
   "execution_count": 478,
   "id": "988d6d19",
   "metadata": {},
   "outputs": [
    {
     "data": {
      "text/plain": [
       "LogisticRegression()"
      ]
     },
     "execution_count": 478,
     "metadata": {},
     "output_type": "execute_result"
    }
   ],
   "source": [
    "#training the dataset\n",
    "model.fit(X_train, y_train)"
   ]
  },
  {
   "cell_type": "code",
   "execution_count": 479,
   "id": "2f4769d6",
   "metadata": {},
   "outputs": [
    {
     "data": {
      "text/plain": [
       "0.7411320754716981"
      ]
     },
     "execution_count": 479,
     "metadata": {},
     "output_type": "execute_result"
    }
   ],
   "source": [
    "y_pred = model.predict(X_test)\n",
    "accuracy_score(y_test, y_pred)"
   ]
  },
  {
   "cell_type": "code",
   "execution_count": 473,
   "id": "a84e7abd",
   "metadata": {},
   "outputs": [
    {
     "name": "stdout",
     "output_type": "stream",
     "text": [
      "              precision    recall  f1-score   support\n",
      "\n",
      "           0       0.77      0.66      0.71       663\n",
      "           1       0.70      0.80      0.75       662\n",
      "\n",
      "    accuracy                           0.73      1325\n",
      "   macro avg       0.74      0.73      0.73      1325\n",
      "weighted avg       0.74      0.73      0.73      1325\n",
      "\n"
     ]
    }
   ],
   "source": [
    "print(classification_report(y_test,y_pred))"
   ]
  }
 ],
 "metadata": {
  "kernelspec": {
   "display_name": "Python 3 (ipykernel)",
   "language": "python",
   "name": "python3"
  },
  "language_info": {
   "codemirror_mode": {
    "name": "ipython",
    "version": 3
   },
   "file_extension": ".py",
   "mimetype": "text/x-python",
   "name": "python",
   "nbconvert_exporter": "python",
   "pygments_lexer": "ipython3",
   "version": "3.9.7"
  }
 },
 "nbformat": 4,
 "nbformat_minor": 5
}
